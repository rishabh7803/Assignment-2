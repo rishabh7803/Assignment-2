{
 "cells": [
  {
   "cell_type": "code",
   "execution_count": 1,
   "id": "eb75ab7a-7d70-4ba0-9add-b275497d22e9",
   "metadata": {},
   "outputs": [],
   "source": [
    "#Q1. How do you comment code in Python? What are the different types of comments?"
   ]
  },
  {
   "cell_type": "code",
   "execution_count": 2,
   "id": "2a8a715e-f158-4ed1-ac54-14ab9c3842f7",
   "metadata": {},
   "outputs": [
    {
     "data": {
      "text/plain": [
       "'In a python commenly we use # for comments, there are three types of comments \\nfirst # single line comment \\nsecond  multi line comment \\nthird beside the corresponding statement of code\\nas a separate line, beside the corresponding statement of code, or as a multi-line comment block.'"
      ]
     },
     "execution_count": 2,
     "metadata": {},
     "output_type": "execute_result"
    }
   ],
   "source": [
    "\"\"\"In a python commenly we use # for comments, there are three types of comments \n",
    "first # single line comment \n",
    "second \"\"\" \"\"\" multi line comment \n",
    "third beside the corresponding statement of code\n",
    "as a separate line, beside the corresponding statement of code, or as a multi-line comment block.\"\"\""
   ]
  },
  {
   "cell_type": "code",
   "execution_count": 3,
   "id": "29e9925c-d8d1-4394-9a71-0cee9941da97",
   "metadata": {},
   "outputs": [],
   "source": [
    "#Q2.What are variables in Python? How do you declare and assign values to variables?"
   ]
  },
  {
   "cell_type": "code",
   "execution_count": 4,
   "id": "d9af9f4d-c490-455d-be8d-512b45d2ad20",
   "metadata": {},
   "outputs": [],
   "source": [
    "#Python variables are simply containers for storing data values\n",
    " #int i;                    // declares integer variable named i\n",
    "  #      i = 9;                    // gives i the value 9\n",
    "#It is also possible to declare a variable and assign it a value in the same line, so instead of int i and then i = 9 you can write int i = 9 all in one go. If you have more than one variable of the same type you can also declare them together e.g.        "
   ]
  },
  {
   "cell_type": "code",
   "execution_count": 5,
   "id": "7bf1b33a-4227-48e5-9216-734f1ba1009b",
   "metadata": {},
   "outputs": [],
   "source": [
    "#Q3. How do you convert one data type to another in Python?"
   ]
  },
  {
   "cell_type": "code",
   "execution_count": 6,
   "id": "5b8eee52-3142-4e2d-be7d-dc889e956816",
   "metadata": {},
   "outputs": [],
   "source": [
    "#we can convert by reassign and another way Type Conversion in Python"
   ]
  },
  {
   "cell_type": "code",
   "execution_count": 7,
   "id": "448cc5b8-1c8d-4a27-bd80-7aaf91b4481a",
   "metadata": {},
   "outputs": [
    {
     "data": {
      "text/plain": [
       "'Type Conversion in Python\\nPython defines type conversion functions to directly convert one data type to another which is useful in day-to-day and competitive programming.\\nThere are two types of Type Conversion in Python:\\n1. Python Implicit Type Conversion\\n2. Python Explicit Type Conversion'"
      ]
     },
     "execution_count": 7,
     "metadata": {},
     "output_type": "execute_result"
    }
   ],
   "source": [
    "\"\"\"Type Conversion in Python\n",
    "Python defines type conversion functions to directly convert one data type to another which is useful in day-to-day and competitive programming.\n",
    "There are two types of Type Conversion in Python:\n",
    "1. Python Implicit Type Conversion\n",
    "2. Python Explicit Type Conversion\"\"\""
   ]
  },
  {
   "cell_type": "code",
   "execution_count": 8,
   "id": "51d5c2d0-cfa1-4a8b-b0bf-df22f0c3ad92",
   "metadata": {},
   "outputs": [],
   "source": [
    "#Q4. How do you write and execute a Python script from the command line?"
   ]
  },
  {
   "cell_type": "code",
   "execution_count": 9,
   "id": "75af2540-3893-4024-b1e2-f3d292e2f7b3",
   "metadata": {},
   "outputs": [
    {
     "data": {
      "text/plain": [
       "'    '"
      ]
     },
     "execution_count": 9,
     "metadata": {},
     "output_type": "execute_result"
    }
   ],
   "source": [
    "\"\"\"    \"\"\""
   ]
  },
  {
   "cell_type": "code",
   "execution_count": 10,
   "id": "dd21513e-10dc-413b-a5af-79c3b62411de",
   "metadata": {},
   "outputs": [],
   "source": [
    "#Q5. Given a list my_list = [1, 2, 3, 4, 5], write the code to slice the list and obtain the sub-list [2, 3]."
   ]
  },
  {
   "cell_type": "code",
   "execution_count": 11,
   "id": "d5683528-7c07-407d-be9e-0d1123f25af7",
   "metadata": {},
   "outputs": [
    {
     "name": "stdout",
     "output_type": "stream",
     "text": [
      "[2, 3]\n"
     ]
    }
   ],
   "source": [
    "my_list = [1, 2, 3, 4, 5]\n",
    "x=slice(1,3)\n",
    "print(my_list[x])\n"
   ]
  },
  {
   "cell_type": "code",
   "execution_count": 12,
   "id": "57bc505c-d9bb-490d-b24f-9cc80ade26c2",
   "metadata": {},
   "outputs": [],
   "source": [
    "#Q6. What is a complex number in mathematics, and how is it represented in Python?"
   ]
  },
  {
   "cell_type": "code",
   "execution_count": 13,
   "id": "1abbb710-f46c-46a5-9058-cdb30deb69fc",
   "metadata": {},
   "outputs": [],
   "source": [
    "y=5+6j"
   ]
  },
  {
   "cell_type": "code",
   "execution_count": 14,
   "id": "92a312cd-bb59-45bc-96aa-c29006371cbb",
   "metadata": {},
   "outputs": [
    {
     "data": {
      "text/plain": [
       "complex"
      ]
     },
     "execution_count": 14,
     "metadata": {},
     "output_type": "execute_result"
    }
   ],
   "source": [
    "type(y)"
   ]
  },
  {
   "cell_type": "code",
   "execution_count": 15,
   "id": "a7487d58-8c7a-4cc1-b9ea-872a5b93409a",
   "metadata": {},
   "outputs": [],
   "source": [
    "#Q7. What is the correct way to declare a variable named age and assign the value 25 to it?"
   ]
  },
  {
   "cell_type": "code",
   "execution_count": 16,
   "id": "9fd110e8-ba7d-444b-9323-618da9f4b0bc",
   "metadata": {},
   "outputs": [
    {
     "name": "stdin",
     "output_type": "stream",
     "text": [
      "what is your name write here Rishabh\n"
     ]
    },
    {
     "name": "stdout",
     "output_type": "stream",
     "text": [
      "Rishabh 21\n"
     ]
    }
   ],
   "source": [
    "name=input(\"what is your name write here\")\n",
    "age=\"what is your age\"\n",
    "age=21\n",
    "print(name,age)"
   ]
  },
  {
   "cell_type": "code",
   "execution_count": 17,
   "id": "23d31409-95c1-4f98-87f7-7ce80e8a999b",
   "metadata": {},
   "outputs": [],
   "source": [
    "#Q8. Declare a variable named price and assign the value 9.99 to it. What data type does this variable\n",
    "#belong to?"
   ]
  },
  {
   "cell_type": "code",
   "execution_count": 18,
   "id": "4030d501-9d63-449d-bfd2-8674dee26a9e",
   "metadata": {},
   "outputs": [
    {
     "name": "stdin",
     "output_type": "stream",
     "text": [
      "enter the price of this item cake\n"
     ]
    },
    {
     "name": "stdout",
     "output_type": "stream",
     "text": [
      "cake 9.99\n"
     ]
    }
   ],
   "source": [
    "price=input(\"enter the price of this item\")\n",
    "Value=9.99\n",
    "print(price,Value)"
   ]
  },
  {
   "cell_type": "code",
   "execution_count": 19,
   "id": "2e5ffbc6-cc09-4d8d-8d70-38cf26a72c3d",
   "metadata": {},
   "outputs": [],
   "source": [
    "#it is a float data type"
   ]
  },
  {
   "cell_type": "code",
   "execution_count": 20,
   "id": "46247e45-2a4d-4adb-99a4-4d054e65f1b4",
   "metadata": {},
   "outputs": [
    {
     "data": {
      "text/plain": [
       "float"
      ]
     },
     "execution_count": 20,
     "metadata": {},
     "output_type": "execute_result"
    }
   ],
   "source": [
    "type(Value)"
   ]
  },
  {
   "cell_type": "code",
   "execution_count": 21,
   "id": "f88104ec-9d5d-4d2d-8cfc-1f5465354797",
   "metadata": {},
   "outputs": [],
   "source": [
    "#Q9. Create a variable named name and assign your full name to it as a string. How would you print the\n",
    "#value of this variable?"
   ]
  },
  {
   "cell_type": "code",
   "execution_count": 22,
   "id": "96e4139a-7f2f-4288-a8ba-2c642d59989d",
   "metadata": {},
   "outputs": [
    {
     "name": "stdin",
     "output_type": "stream",
     "text": [
      "enter your full name Rishabh gupta\n"
     ]
    },
    {
     "name": "stdout",
     "output_type": "stream",
     "text": [
      "Rishabh gupta\n"
     ]
    }
   ],
   "source": [
    "name=input(\"enter your full name\")\n",
    "print(name)"
   ]
  },
  {
   "cell_type": "code",
   "execution_count": 23,
   "id": "0f333a75-adc1-4099-b785-9b4647b23ab3",
   "metadata": {},
   "outputs": [
    {
     "data": {
      "text/plain": [
       "str"
      ]
     },
     "execution_count": 23,
     "metadata": {},
     "output_type": "execute_result"
    }
   ],
   "source": [
    "type(name)"
   ]
  },
  {
   "cell_type": "code",
   "execution_count": 24,
   "id": "ec2f367e-57f0-4bd5-9349-16cd22dcb703",
   "metadata": {},
   "outputs": [],
   "source": [
    "#Q10. Given the string \"Hello, World!\", extract the substring \"World\"."
   ]
  },
  {
   "cell_type": "code",
   "execution_count": 25,
   "id": "b462dfe5-5c87-4cc1-b5fe-c19b4236e50c",
   "metadata": {},
   "outputs": [
    {
     "name": "stdout",
     "output_type": "stream",
     "text": [
      "World\n"
     ]
    }
   ],
   "source": [
    "original_string = \"Hello, World!\"\n",
    "substring = original_string[7:12]\n",
    "print(substring)"
   ]
  },
  {
   "cell_type": "code",
   "execution_count": 26,
   "id": "9c6f5e22-a4e8-41c6-9749-48ca19e18ce1",
   "metadata": {},
   "outputs": [],
   "source": [
    "#Q11. Create a variable named \"is_student\" and assign it a boolean value indicating whether you are\n",
    "#currently a student or not."
   ]
  },
  {
   "cell_type": "code",
   "execution_count": 50,
   "id": "5a779af8-963c-4e83-be2d-2ab5a9bc576c",
   "metadata": {},
   "outputs": [
    {
     "name": "stdin",
     "output_type": "stream",
     "text": [
      " No\n"
     ]
    },
    {
     "name": "stdout",
     "output_type": "stream",
     "text": [
      "False\n"
     ]
    }
   ],
   "source": [
    "is_student=input(str())\n",
    "if is_student==\"True\":\n",
    "    print(True)\n",
    "else:\n",
    "    print(False)"
   ]
  },
  {
   "cell_type": "code",
   "execution_count": null,
   "id": "91715b3f-b56a-47ae-b8e2-6d83e773f487",
   "metadata": {},
   "outputs": [],
   "source": []
  }
 ],
 "metadata": {
  "kernelspec": {
   "display_name": "Python 3 (ipykernel)",
   "language": "python",
   "name": "python3"
  },
  "language_info": {
   "codemirror_mode": {
    "name": "ipython",
    "version": 3
   },
   "file_extension": ".py",
   "mimetype": "text/x-python",
   "name": "python",
   "nbconvert_exporter": "python",
   "pygments_lexer": "ipython3",
   "version": "3.10.8"
  }
 },
 "nbformat": 4,
 "nbformat_minor": 5
}
